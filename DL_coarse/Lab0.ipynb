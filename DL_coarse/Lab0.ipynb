{
 "cells": [
  {
   "cell_type": "code",
   "execution_count": 2,
   "metadata": {},
   "outputs": [],
   "source": [
    "import torch\n",
    "import torch.nn as nn\n",
    "import torch.nn.functional as F\n",
    "import torch.optim as optim\n",
    "from torchvision import datasets, transforms\n",
    "from torch.autograd import Variable"
   ]
  },
  {
   "cell_type": "code",
   "execution_count": 45,
   "metadata": {},
   "outputs": [],
   "source": [
    "batch = 40\n",
    "cuda_use = torch.cuda.is_available()\n",
    "epochs = 20\n",
    "lr = 0.001\n",
    "momentum = 0.9\n",
    "seed = 1"
   ]
  },
  {
   "cell_type": "code",
   "execution_count": 46,
   "metadata": {},
   "outputs": [],
   "source": [
    "if cuda_use:\n",
    "    torch.manual_seed(seed)\n",
    "train_loader = torch.utils.data.DataLoader(\n",
    "datasets.MNIST('./MNIST_data', train=True, download=True,\n",
    "               transform=transforms.Compose([\n",
    "                   transforms.ToTensor(),\n",
    "                   transforms.Normalize((0.1307,), (0.3081,))\n",
    "               ])),batch_size = batch, shuffle = True,num_workers = 2)\n",
    "\n",
    "test_loader = torch.utils.data.DataLoader(\n",
    "datasets.MNIST('./MNIST_data', train=False, transform=transforms.Compose([\n",
    "                   transforms.ToTensor(),\n",
    "                   transforms.Normalize((0.1307,), (0.3081,))\n",
    "               ])),batch_size = batch, shuffle = True,num_workers = 2)"
   ]
  },
  {
   "cell_type": "code",
   "execution_count": 47,
   "metadata": {},
   "outputs": [],
   "source": [
    "class Net(nn.Module):\n",
    "    def __init__(self):\n",
    "        super(Net, self).__init__()\n",
    "        self.conv1 = nn.Conv2d(1, 6, kernel_size=(5,5),stride=1, padding=0)\n",
    "        self.conv3 = nn.Conv2d(6, 6, kernel_size=(3,3),stride=1, padding=1)\n",
    "        self.conv3 = nn.Conv2d(6, 6, kernel_size=(3,3),stride=1, padding=1)\n",
    "        self.conv2 = nn.Conv2d(6, 16, kernel_size=(5,5),stride=1, padding=0)\n",
    "        self.fc1 = nn.Linear(16*4*4, 120)\n",
    "        self.fc2 = nn.Linear(120, 84)\n",
    "        self.fc3 = nn.Linear(84, 10)\n",
    "\n",
    "    def forward(self, x):\n",
    "        out = F.relu(self.conv1(x))\n",
    "        out = F.max_pool2d(out, 2)\n",
    "        out = F.relu(self.conv3(out))\n",
    "        out = F.relu(self.conv3(out))\n",
    "        out = F.relu(self.conv2(out))\n",
    "        out = F.max_pool2d(out, 2)\n",
    "        out = out.view(out.size(0), -1) #flatten\n",
    "        out = F.relu(self.fc1(out))\n",
    "        out = F.relu(self.fc2(out))\n",
    "        out = self.fc3(out)\n",
    "        return out\n",
    "model = Net()\n",
    "if cuda_use:\n",
    "    device = torch.device('cuda:0')\n",
    "    model.to(device)\n",
    "Loss = nn.CrossEntropyLoss()\n",
    "optimizer = optim.SGD(model.parameters(), lr=lr, momentum=momentum)"
   ]
  },
  {
   "cell_type": "code",
   "execution_count": 51,
   "metadata": {},
   "outputs": [],
   "source": [
    "def adjust_learning_rate(optimizer, epoch):\n",
    "    if epoch < 10:\n",
    "        lr = 0.01\n",
    "    elif epoch < 15:\n",
    "        lr = 0.001\n",
    "    else: \n",
    "        lr = 0.0001\n",
    "\n",
    "    for param_group in optimizer.param_groups:\n",
    "        param_group['lr'] = lr"
   ]
  },
  {
   "cell_type": "code",
   "execution_count": null,
   "metadata": {},
   "outputs": [
    {
     "name": "stdout",
     "output_type": "stream",
     "text": [
      "\n",
      "Test set: Average loss: 0.0692, Accuracy: 9786/10000 (97%)\n",
      "\n",
      "\n",
      "Test set: Average loss: 0.0413, Accuracy: 9868/10000 (98%)\n",
      "\n",
      "\n",
      "Test set: Average loss: 0.0515, Accuracy: 9841/10000 (98%)\n",
      "\n",
      "\n",
      "Test set: Average loss: 0.0427, Accuracy: 9867/10000 (98%)\n",
      "\n",
      "\n",
      "Test set: Average loss: 0.0438, Accuracy: 9871/10000 (98%)\n",
      "\n",
      "\n",
      "Test set: Average loss: 0.0414, Accuracy: 9878/10000 (98%)\n",
      "\n",
      "\n",
      "Test set: Average loss: 0.0545, Accuracy: 9854/10000 (98%)\n",
      "\n",
      "\n",
      "Test set: Average loss: 0.0532, Accuracy: 9846/10000 (98%)\n",
      "\n"
     ]
    }
   ],
   "source": [
    "def train(epoch):\n",
    "    model.train()\n",
    "    adjust_learning_rate(optimizer, epoch)\n",
    "\n",
    "    for batch_idx, (data, target) in enumerate(train_loader):\n",
    "        if cuda_use:\n",
    "            data, target = data.to(device), target.to(device)\n",
    "\n",
    "        optimizer.zero_grad()\n",
    "        output = model(data)\n",
    "        loss = Loss(output, target)\n",
    "        loss.backward()\n",
    "        optimizer.step()\n",
    "#         print('Train Epoch: {} [{}/{} ({:.0f}%)]\\tLoss: {:.6f}'.format(\n",
    "#                 epoch, batch_idx * len(data), len(train_loader.dataset),\n",
    "#                 100. * batch_idx / len(train_loader), loss.data))\n",
    "\n",
    "#Testing function\n",
    "def test(epoch):\n",
    "    model.eval()\n",
    "    test_loss = 0\n",
    "    correct = 0\n",
    "    for batch_idx, (data, target) in enumerate(test_loader):\n",
    "        if cuda_use:\n",
    "            data, target = data.to(device), target.to(device)\n",
    "        with torch.no_grad():\n",
    "            output = model(data)\n",
    "        test_loss += Loss(output, target).data\n",
    "        pred = output.data.max(1)[1] # get the index of the max log-probability\n",
    "        correct += pred.eq(target.data).cpu().sum()\n",
    "\n",
    "    test_loss = test_loss\n",
    "    test_loss /= len(test_loader) # loss function already averages over batch size\n",
    "    print('\\nTest set: Average loss: {:.4f}, Accuracy: {}/{} ({:.0f}%)\\n'.format(\n",
    "        test_loss, correct, len(test_loader.dataset),\n",
    "        100. * correct / len(test_loader.dataset)))\n",
    "\n",
    "#run and save model\n",
    "for epoch in range(1, epochs + 1):\n",
    "    train(epoch)\n",
    "    test(epoch)\n",
    "    savefilename = 'LeNet_'+str(epoch)+'.tar'\n",
    "#     torch.save({\n",
    "#             'epoch': epoch,\n",
    "#             'state_dict': model.state_dict(),\n",
    "#         }, savefilename)"
   ]
  }
 ],
 "metadata": {
  "kernelspec": {
   "display_name": "Python 3",
   "language": "python",
   "name": "python3"
  },
  "language_info": {
   "codemirror_mode": {
    "name": "ipython",
    "version": 3
   },
   "file_extension": ".py",
   "mimetype": "text/x-python",
   "name": "python",
   "nbconvert_exporter": "python",
   "pygments_lexer": "ipython3",
   "version": "3.5.2"
  }
 },
 "nbformat": 4,
 "nbformat_minor": 2
}
